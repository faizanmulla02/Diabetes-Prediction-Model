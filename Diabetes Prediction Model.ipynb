{
 "cells": [
  {
   "cell_type": "markdown",
   "id": "6352144d",
   "metadata": {},
   "source": [
    "### Step 1: Importing The Libraries Required"
   ]
  },
  {
   "cell_type": "code",
   "execution_count": 126,
   "id": "4d6a4002-08d9-4d9f-a784-58da9495f103",
   "metadata": {},
   "outputs": [],
   "source": [
    "import numpy as np\n",
    "import pandas as pd\n",
    "import seaborn as sns\n",
    "import matplotlib.pyplot as plt\n",
    "%matplotlib inline\n",
    "\n",
    "from sklearn.linear_model import LogisticRegression\n",
    "from sklearn import metrics\n",
    "from sklearn.model_selection import train_test_split\n",
    "from sklearn.preprocessing import StandardScaler\n",
    "from sklearn.impute import SimpleImputer\n",
    "\n",
    "import warnings\n",
    "warnings.filterwarnings('ignore')"
   ]
  },
  {
   "cell_type": "markdown",
   "id": "300d4359-4f21-40b3-8d2d-e27e0aedd00f",
   "metadata": {},
   "source": [
    "### Step 2: Load and Inspect the Dataset"
   ]
  },
  {
   "cell_type": "code",
   "execution_count": 129,
   "id": "ba5da1a4-94cc-4c08-91d5-65231f8580a3",
   "metadata": {},
   "outputs": [
    {
     "name": "stdout",
     "output_type": "stream",
     "text": [
      "First few rows of the dataset:\n",
      "   gender   age  hypertension  heart_disease smoking_history    bmi  \\\n",
      "0  Female  80.0             0              1           never  25.19   \n",
      "1  Female  54.0             0              0         No Info  27.32   \n",
      "2    Male  28.0             0              0           never  27.32   \n",
      "3  Female  36.0             0              0         current  23.45   \n",
      "4    Male  76.0             1              1         current  20.14   \n",
      "\n",
      "   HbA1c_level  blood_glucose_level  diabetes  \n",
      "0          6.6                  140         0  \n",
      "1          6.6                   80         0  \n",
      "2          5.7                  158         0  \n",
      "3          5.0                  155         0  \n",
      "4          4.8                  155         0  \n"
     ]
    }
   ],
   "source": [
    "file_path = r'/diabetes_prediction_dataset.csv'  # Update with the correct file path\n",
    "df = pd.read_csv(file_path)\n",
    "\n",
    "# Displaying the first few rows of the dataset and its structure\n",
    "print(\"First few rows of the dataset:\")\n",
    "print(df.head())"
   ]
  },
  {
   "cell_type": "markdown",
   "id": "ccb57e62-8ef3-4a49-8e07-6f3b86711750",
   "metadata": {},
   "source": [
    "### Dataset Summary"
   ]
  },
  {
   "cell_type": "code",
   "execution_count": 132,
   "id": "0112d42d-dac7-4076-91b3-dee118a59af2",
   "metadata": {},
   "outputs": [
    {
     "name": "stdout",
     "output_type": "stream",
     "text": [
      "\n",
      "Dataset Information:\n",
      "<class 'pandas.core.frame.DataFrame'>\n",
      "RangeIndex: 100000 entries, 0 to 99999\n",
      "Data columns (total 9 columns):\n",
      " #   Column               Non-Null Count   Dtype  \n",
      "---  ------               --------------   -----  \n",
      " 0   gender               100000 non-null  object \n",
      " 1   age                  100000 non-null  float64\n",
      " 2   hypertension         100000 non-null  int64  \n",
      " 3   heart_disease        100000 non-null  int64  \n",
      " 4   smoking_history      100000 non-null  object \n",
      " 5   bmi                  100000 non-null  float64\n",
      " 6   HbA1c_level          100000 non-null  float64\n",
      " 7   blood_glucose_level  100000 non-null  int64  \n",
      " 8   diabetes             100000 non-null  int64  \n",
      "dtypes: float64(3), int64(4), object(2)\n",
      "memory usage: 6.9+ MB\n",
      "None\n",
      "\n",
      "Missing values in each column:\n",
      "gender                 0\n",
      "age                    0\n",
      "hypertension           0\n",
      "heart_disease          0\n",
      "smoking_history        0\n",
      "bmi                    0\n",
      "HbA1c_level            0\n",
      "blood_glucose_level    0\n",
      "diabetes               0\n",
      "dtype: int64\n"
     ]
    }
   ],
   "source": [
    "print(\"\\nDataset Information:\")\n",
    "print(df.info())\n",
    "\n",
    "# Check for missing values\n",
    "print(\"\\nMissing values in each column:\")\n",
    "print(df.isnull().sum())"
   ]
  },
  {
   "cell_type": "markdown",
   "id": "abc80eae-3f9e-4790-a90c-50080b66073c",
   "metadata": {},
   "source": [
    "### Step 3: Data Preprocessing"
   ]
  },
  {
   "cell_type": "code",
   "execution_count": 135,
   "id": "0cbe125f-8386-4454-bef6-973d47285732",
   "metadata": {},
   "outputs": [
    {
     "name": "stdout",
     "output_type": "stream",
     "text": [
      "\n",
      "Missing values in each column before imputation:\n",
      "gender                    18\n",
      "age                        0\n",
      "hypertension               0\n",
      "heart_disease              0\n",
      "smoking_history        19803\n",
      "bmi                        0\n",
      "HbA1c_level                0\n",
      "blood_glucose_level        0\n",
      "diabetes                   0\n",
      "dtype: int64\n",
      "\n",
      "Missing values in each column after imputation:\n",
      "gender                 0\n",
      "age                    0\n",
      "hypertension           0\n",
      "heart_disease          0\n",
      "smoking_history        0\n",
      "bmi                    0\n",
      "HbA1c_level            0\n",
      "blood_glucose_level    0\n",
      "diabetes               0\n",
      "dtype: int64\n"
     ]
    }
   ],
   "source": [
    "# Convert categorical variables to numerical\n",
    "df['gender'] = df['gender'].map({'Female': 0, 'Male': 1})\n",
    "df['smoking_history'] = df['smoking_history'].map({'never': 0, 'No Info': 1, 'current': 2})\n",
    "\n",
    "# Check for missing values before imputation\n",
    "print(\"\\nMissing values in each column before imputation:\")\n",
    "print(df.isna().sum())\n",
    "\n",
    "# Impute missing values\n",
    "imputer = SimpleImputer(strategy='mean')\n",
    "df_imputed = pd.DataFrame(imputer.fit_transform(df), columns=df.columns)\n",
    "\n",
    "# Check for missing values after imputation\n",
    "print(\"\\nMissing values in each column after imputation:\")\n",
    "print(df_imputed.isna().sum())"
   ]
  },
  {
   "cell_type": "markdown",
   "id": "7d9c090c-bcce-42ae-be55-3b8147aea482",
   "metadata": {},
   "source": [
    "### Step 4: Feature Scaling"
   ]
  },
  {
   "cell_type": "code",
   "execution_count": 138,
   "id": "b7b2a554-cb83-4712-b06c-4f820b7dc5b1",
   "metadata": {},
   "outputs": [],
   "source": [
    "# Separate the target column\n",
    "target_column = 'diabetes'\n",
    "\n",
    "# Standardize the dataset\n",
    "scaler = StandardScaler()\n",
    "scaled_df = scaler.fit_transform(df_imputed.drop(target_column, axis=1))\n",
    "\n",
    "# Convert back to DataFrame\n",
    "scaled_df = pd.DataFrame(scaled_df, columns=df_imputed.drop(target_column, axis=1).columns)\n",
    "scaled_df[target_column] = df_imputed[target_column].values"
   ]
  },
  {
   "cell_type": "markdown",
   "id": "d226f7f0-eefd-4ac5-a5ba-0aa67b8732fb",
   "metadata": {},
   "source": [
    "### Step 5: Splitting the Data"
   ]
  },
  {
   "cell_type": "code",
   "execution_count": 141,
   "id": "2df2bb23-b1bb-4e66-8b7f-3d3cc076ce98",
   "metadata": {},
   "outputs": [],
   "source": [
    "# Split the data into training and testing sets\n",
    "X = scaled_df.drop(target_column, axis=1)\n",
    "y = scaled_df[target_column]\n",
    "X_train, X_test, y_train, y_test = train_test_split(X, y, test_size=0.2, random_state=42)"
   ]
  },
  {
   "cell_type": "markdown",
   "id": "fe82580c-3bba-43a3-9d55-5b7a57453d00",
   "metadata": {},
   "source": [
    "### Step 6: Model Training and Evaluation"
   ]
  },
  {
   "cell_type": "code",
   "execution_count": 144,
   "id": "fe83f28a-1e20-49ad-a2ab-a2dae5359695",
   "metadata": {},
   "outputs": [
    {
     "name": "stdout",
     "output_type": "stream",
     "text": [
      "\n",
      "Step 6: Model Training and Evaluation\n",
      "Accuracy: 0.96\n",
      "\n",
      "Confusion Matrix:\n",
      "[[18129   163]\n",
      " [  660  1048]]\n",
      "\n",
      "Classification Report:\n",
      "              precision    recall  f1-score   support\n",
      "\n",
      "         0.0       0.96      0.99      0.98     18292\n",
      "         1.0       0.87      0.61      0.72      1708\n",
      "\n",
      "    accuracy                           0.96     20000\n",
      "   macro avg       0.92      0.80      0.85     20000\n",
      "weighted avg       0.96      0.96      0.96     20000\n",
      "\n"
     ]
    }
   ],
   "source": [
    "# Initialize the logistic regression model\n",
    "model = LogisticRegression()\n",
    "\n",
    "# Train the model\n",
    "model.fit(X_train, y_train)\n",
    "\n",
    "# Make predictions\n",
    "y_pred = model.predict(X_test)\n",
    "\n",
    "# Evaluate the model\n",
    "accuracy = metrics.accuracy_score(y_test, y_pred)\n",
    "conf_matrix = metrics.confusion_matrix(y_test, y_pred)\n",
    "class_report = metrics.classification_report(y_test, y_pred)\n",
    "\n",
    "# Print evaluation metrics\n",
    "print(\"\\nStep 6: Model Training and Evaluation\")\n",
    "print(f\"Accuracy: {accuracy:.2f}\")\n",
    "print(\"\\nConfusion Matrix:\")\n",
    "print(conf_matrix)\n",
    "print(\"\\nClassification Report:\")\n",
    "print(class_report)\n"
   ]
  },
  {
   "cell_type": "markdown",
   "id": "f0fdf4af-7814-4a46-a49e-1663b2034505",
   "metadata": {},
   "source": [
    "### Step 7: Additional Evaluation Metrics"
   ]
  },
  {
   "cell_type": "code",
   "execution_count": 147,
   "id": "2d71d49d-cbb5-430c-b2a6-9ba716d9188a",
   "metadata": {},
   "outputs": [
    {
     "name": "stdout",
     "output_type": "stream",
     "text": [
      "\n",
      "Step 7: Additional Evaluation Metrics\n",
      "Accuracy: 0.96\n",
      "Precision: 0.87\n",
      "Recall: 0.61\n"
     ]
    }
   ],
   "source": [
    "# Print individual evaluation metrics\n",
    "print(\"\\nStep 7: Additional Evaluation Metrics\")\n",
    "print(f\"Accuracy: {accuracy:.2f}\")\n",
    "print(\"Precision: {:.2f}\".format(metrics.precision_score(y_test, y_pred)))\n",
    "print(\"Recall: {:.2f}\".format(metrics.recall_score(y_test, y_pred)))"
   ]
  },
  {
   "cell_type": "markdown",
   "id": "d4c1472c-519f-4c00-9c15-afa7990c2382",
   "metadata": {},
   "source": [
    "### Step 8: ROC Curve and AUC"
   ]
  },
  {
   "cell_type": "code",
   "execution_count": 150,
   "id": "6a6d50e8-961d-42eb-a026-d4c1a07fc730",
   "metadata": {},
   "outputs": [
    {
     "data": {
      "image/png": "[encoded data removed]",
      "text/plain": [
       "<Figure size 800x600 with 1 Axes>"
      ]
     },
     "metadata": {},
     "output_type": "display_data"
    },
    {
     "name": "stdout",
     "output_type": "stream",
     "text": [
      "\n",
      "AUC: 0.96\n"
     ]
    }
   ],
   "source": [
    "# Predict probabilities\n",
    "y_pred_proba = model.predict_proba(X_test)[:, 1]\n",
    "\n",
    "# Calculate ROC curve and AUC\n",
    "fpr, tpr, thresholds = metrics.roc_curve(y_test, y_pred_proba)\n",
    "auc = metrics.roc_auc_score(y_test, y_pred_proba)\n",
    "\n",
    "# Plot ROC curve\n",
    "plt.figure(figsize=(8, 6))\n",
    "plt.plot(fpr, tpr, color='blue', lw=2, label='ROC curve (AUC = {:.2f})'.format(auc))\n",
    "plt.plot([0, 1], [0, 1], color='gray', linestyle='--')\n",
    "plt.xlim([0.0, 1.0])\n",
    "plt.ylim([0.0, 1.05])\n",
    "plt.xlabel('False Positive Rate')\n",
    "plt.ylabel('True Positive Rate')\n",
    "plt.title('Receiver Operating Characteristic (ROC) Curve')\n",
    "plt.legend(loc='lower right')\n",
    "plt.show()\n",
    "\n",
    "# Print AUC\n",
    "print(\"\\nAUC: {:.2f}\".format(auc))"
   ]
  },
  {
   "cell_type": "code",
   "execution_count": 152,
   "id": "5112d685-242d-4ab6-8904-3e4ef33d102b",
   "metadata": {
    "scrolled": true
   },
   "outputs": [
    {
     "name": "stdout",
     "output_type": "stream",
     "text": [
      "Accuracy: 0.96\n",
      "Precision: 0.87\n",
      "Recall: 0.61\n"
     ]
    }
   ],
   "source": [
    "print(\"Accuracy: {:.2f}\".format(metrics.accuracy_score(y_test, y_pred)))\n",
    "print(\"Precision: {:.2f}\".format(metrics.precision_score(y_test, y_pred)))\n",
    "print(\"Recall: {:.2f}\".format(metrics.recall_score(y_test, y_pred)))"
   ]
  }
 ],
 "metadata": {
  "kernelspec": {
   "display_name": "Python 3 (ipykernel)",
   "language": "python",
   "name": "python3"
  },
  "language_info": {
   "codemirror_mode": {
    "name": "ipython",
    "version": 3
   },
   "file_extension": ".py",
   "mimetype": "text/x-python",
   "name": "python",
   "nbconvert_exporter": "python",
   "pygments_lexer": "ipython3",
   "version": "3.12.4"
  }
 },
 "nbformat": 4,
 "nbformat_minor": 5
}
